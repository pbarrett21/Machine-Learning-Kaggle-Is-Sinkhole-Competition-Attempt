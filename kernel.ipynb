{
 "cells": [
  {
   "cell_type": "markdown",
   "metadata": {
    "_uuid": "8e5cab749cc865756e1de0545b1eb7a5e71f452f"
   },
   "source": [
    "A simple solution  to https://www.kaggle.com/c/UKYCS460g2018sinkhole.\n",
    "\n",
    "If you would like to make a submission from this notebook, you can follow the instructions here https://www.kaggle.com/dansbecker/submitting-from-a-kernel.  Alternatively, you might want to use https://github.com/Kaggle/kaggle-api."
   ]
  },
  {
   "cell_type": "code",
   "execution_count": 58,
   "metadata": {
    "_cell_guid": "79c7e3d0-c299-4dcb-8224-4455121ee9b0",
    "_uuid": "d629ff2d2480ee46fbb7e2d37f6b5fab8052498a"
   },
   "outputs": [],
   "source": [
    "# Paul Barrett\n",
    "\n",
    "### IMPORTANT NOTE ###\n",
    "# You may receive the following error:\n",
    "# ERROR: Number of features of the model must match the input. Model n_features is 10 and input n_features is 11\n",
    "# The code still works: to fix, re-run all cells in the notebook and try to run the cell again\n",
    "\n",
    "import pandas as pd\n",
    "import matplotlib.pyplot as plt\n",
    "from pandas.plotting import scatter_matrix\n",
    "import numpy as np\n",
    "\n",
    "#classifiers/etc\n",
    "from sklearn import tree\n",
    "from sklearn.ensemble import RandomForestClassifier\n",
    "from sklearn.datasets import make_classification\n",
    "from sklearn.model_selection import RandomizedSearchCV\n",
    "from sklearn.model_selection import GridSearchCV\n",
    "from sklearn.metrics import classification_report\n",
    "from sklearn.model_selection import train_test_split\n",
    "from sklearn.neural_network import MLPClassifier"
   ]
  },
  {
   "cell_type": "markdown",
   "metadata": {},
   "source": [
    "### Load and describe data ###"
   ]
  },
  {
   "cell_type": "code",
   "execution_count": 59,
   "metadata": {},
   "outputs": [
    {
     "name": "stdout",
     "output_type": "stream",
     "text": [
      "   ID  Shape_Length   Shape_Area  Depth_MAX  Dept_MEAN  Depth_STD   Depth_SUM  \\\n",
      "0   0    124.333136   589.421583   2.279907   1.143903   0.505252   27.453674   \n",
      "1   1    397.009446  9258.123522   1.553589   1.005807   0.284526  369.131287   \n",
      "2   2    355.199940  2817.106555   1.891174   0.967558   0.394756  110.301575   \n",
      "3   3    407.131297  5864.385594   0.807129   0.634363   0.084275  147.172302   \n",
      "4   4    319.443869  6105.382828   0.959839   0.926346   0.116863  224.175720   \n",
      "\n",
      "   RingSlopeMEAN  RingSlopeSTD  DepthIndex  Compactness  IsSinkhole  \n",
      "0       5.479808      3.896399    0.166459     0.230049           0  \n",
      "1       3.334356      1.028575    0.028621     0.409859           0  \n",
      "2       6.487078      5.700402    0.063159     0.168495           0  \n",
      "3       2.974559      1.525622    0.018682     0.229310           0  \n",
      "4       6.941503      3.420101    0.021774     0.513000           0  \n"
     ]
    }
   ],
   "source": [
    "train = pd.read_csv('train.csv')\n",
    "test = pd.read_csv('test.csv')\n",
    "\n",
    "print(train.head())"
   ]
  },
  {
   "cell_type": "markdown",
   "metadata": {},
   "source": [
    "### Visualize Data ###"
   ]
  },
  {
   "cell_type": "code",
   "execution_count": 60,
   "metadata": {},
   "outputs": [
    {
     "data": {
      "image/png": "[encoded data removed]",
      "text/plain": [
       "<Figure size 432x288 with 1 Axes>"
      ]
     },
     "metadata": {},
     "output_type": "display_data"
    },
    {
     "data": {
      "image/png": "[encoded data removed]",
      "text/plain": [
       "<Figure size 432x288 with 1 Axes>"
      ]
     },
     "metadata": {},
     "output_type": "display_data"
    }
   ],
   "source": [
    "X = train.RingSlopeMEAN.values.reshape(-1,1)\n",
    "X1 = train.RingSlopeSTD.values.reshape(-1,1)\n",
    "Y = train.IsSinkhole.values.reshape(-1,1)\n",
    "\n",
    "fig1, ax = plt.subplots()\n",
    "ax.plot(X, Y, 'ro', ms=5, mec='k')\n",
    "ax.set(xlabel='RingSlopeMean', ylabel='IsSinkhole',\n",
    "       title='RingSlopeMean and IsSinkhole')\n",
    "ax.grid()\n",
    "\n",
    "\n",
    "fig2, ay = plt.subplots()\n",
    "ay.plot(X1, Y, 'ro', ms = 5, mec = 'k')\n",
    "ay.set(xlabel='RingSlopeSTD', ylabel='IsSinkhole',\n",
    "       title='RingSlopeSTD and IsSinkhole')\n",
    "ay.grid()\n",
    "\n"
   ]
  },
  {
   "cell_type": "markdown",
   "metadata": {},
   "source": [
    "#### Split Data for Param Search"
   ]
  },
  {
   "cell_type": "code",
   "execution_count": 61,
   "metadata": {},
   "outputs": [],
   "source": [
    "X=train.drop(columns=['ID','IsSinkhole'])\n",
    "y=train.IsSinkhole\n",
    "\n",
    "# Split the dataset in two equal parts\n",
    "X_train, X_test, y_train, y_test = train_test_split(X, y, test_size=0.5, random_state=0)"
   ]
  },
  {
   "cell_type": "markdown",
   "metadata": {},
   "source": [
    "## Find Best Params (Rand Forests) ##"
   ]
  },
  {
   "cell_type": "code",
   "execution_count": 62,
   "metadata": {
    "_kg_hide-output": false,
    "_uuid": "deb8b4e2f663d6d887fdc5778365ad8f4298ead9"
   },
   "outputs": [
    {
     "name": "stdout",
     "output_type": "stream",
     "text": [
      "Best params:  {}\n",
      "\n",
      "Classification report: \n",
      "\n",
      "             precision    recall  f1-score   support\n",
      "\n",
      "          0       0.89      0.95      0.92      6799\n",
      "          1       0.81      0.66      0.73      2353\n",
      "\n",
      "avg / total       0.87      0.87      0.87      9152\n",
      "\n"
     ]
    }
   ],
   "source": [
    "#Using Grid Search\n",
    "\n",
    "#### ATTEMPTS: ####\n",
    "# Set the parameters by cross-validation\n",
    "# took too long - wouldnt ever load\n",
    "#tuned_parameters = [{'n_estimators': [5, 10, 100, 500, 1000], 'criterion': ['gini', 'entropy'], 'max_depth': \n",
    "                    #[None, 2, 4, 8, 16], 'bootstrap': [True, False], 'random_state': [None, 1]}]\n",
    "\n",
    "# f1 .88: bstrap false, crit entropy, max depth none, n est 100, rand state 1\n",
    "#tuned_parameters = [{'n_estimators': [5, 10, 100, 200], 'criterion': ['gini', 'entropy'], 'max_depth': [None, 2, 4], \n",
    "                    #'bootstrap': [True, False], 'random_state': [None, 1]}]\n",
    "\n",
    "# no signifigant change, try new n est\n",
    "#tuned_parameters = [{'n_estimators': [50, 100, 150], 'criterion': ['entropy'], 'max_depth': [None], 'bootstrap': \n",
    "                    #[True, False], 'random_state': [1]}]\n",
    "\n",
    "#class weight none, f1 .88\n",
    "#tuned_parameters = [{'n_estimators': [100], 'criterion': ['entropy'], 'max_depth': [None], 'bootstrap': [False], \n",
    "                    #'random_state': [1], 'class_weight': ['balanced', 'balanced_subsample', None]}]\n",
    "\n",
    "#barebones approach? .87\n",
    "tuned_parameters = [{}]\n",
    "\n",
    "# n = 100, f1 .88\n",
    "#tuned_parameters = [{'n_estimators': [100, 90, 110]}]\n",
    "\n",
    "#Do grid search and print classification report\n",
    "clf = GridSearchCV(RandomForestClassifier(), tuned_parameters, cv=5)\n",
    "clf.fit(X_train, y_train)\n",
    "print(\"Best params: \", clf.best_params_); print()\n",
    "y_true, y_pred = y_test, clf.predict(X_test)\n",
    "print(\"Classification report: \"); print()\n",
    "print(classification_report(y_true, y_pred))"
   ]
  },
  {
   "cell_type": "markdown",
   "metadata": {},
   "source": [
    "## Find Best Params (Decision Tree)"
   ]
  },
  {
   "cell_type": "code",
   "execution_count": 63,
   "metadata": {},
   "outputs": [
    {
     "name": "stdout",
     "output_type": "stream",
     "text": [
      "Best params:  {'class_weight': None, 'criterion': 'entropy', 'max_depth': 8, 'random_state': 1}\n",
      "\n",
      "Classification report: \n",
      "\n",
      "             precision    recall  f1-score   support\n",
      "\n",
      "          0       0.89      0.93      0.91      6799\n",
      "          1       0.76      0.66      0.71      2353\n",
      "\n",
      "avg / total       0.86      0.86      0.86      9152\n",
      "\n"
     ]
    }
   ],
   "source": [
    "#Using Grid Search\n",
    "\n",
    "#### ATTEMPTS: ####\n",
    "\n",
    "# barebones approach .83\n",
    "# tuned_parameters = [{}]\n",
    "\n",
    "# entropy, 8, f1 .86\n",
    "#tuned_parameters = [{'criterion': ['entropy', 'gini'], 'max_depth': [None, 2, 8, 16]}]\n",
    "\n",
    "# 8, rand enabled\n",
    "#tuned_parameters = [{'criterion': ['entropy'], 'max_depth': [8, 10, 6], 'random_state': [None, 1]}]\n",
    "\n",
    "# class weight none, f1 .86\n",
    "tuned_parameters = [{'criterion': ['entropy'], 'max_depth': [8], 'random_state': [1], 'class_weight': ['balanced', None]}]\n",
    "\n",
    "#Do grid search and print classification report\n",
    "clf = GridSearchCV(tree.DecisionTreeClassifier(), tuned_parameters, cv=5)\n",
    "clf.fit(X_train, y_train)\n",
    "print(\"Best params: \", clf.best_params_); print()\n",
    "y_true, y_pred = y_test, clf.predict(X_test)\n",
    "print(\"Classification report: \"); print()\n",
    "print(classification_report(y_true, y_pred))\n",
    "\n",
    "bestparamDTree = clf.best_params_"
   ]
  },
  {
   "cell_type": "markdown",
   "metadata": {},
   "source": [
    "## Find Best Params (Multi Layered Perceptron)"
   ]
  },
  {
   "cell_type": "code",
   "execution_count": 64,
   "metadata": {},
   "outputs": [
    {
     "name": "stdout",
     "output_type": "stream",
     "text": [
      "Best params:  {}\n",
      "\n",
      "Classification report: \n",
      "\n",
      "             precision    recall  f1-score   support\n",
      "\n",
      "          0       0.74      1.00      0.85      6799\n",
      "          1       0.43      0.00      0.01      2353\n",
      "\n",
      "avg / total       0.66      0.74      0.64      9152\n",
      "\n"
     ]
    }
   ],
   "source": [
    "#Using Grid Search\n",
    "\n",
    "#### ATTEMPTS: ####\n",
    "# barebones,  f1 .76\n",
    "tuned_parameters = [{}]\n",
    "\n",
    "# f1 .63, adaptive sgd not a good idea, iter 200\n",
    "#tuned_parameters = [{'solver': ['sgd'], 'learning_rate': ['adaptive'], 'max_iter': [200, 300, 100]}]\n",
    "\n",
    "# \n",
    "#tuned_parameters = [{'solver': ['lbfgs'], 'alpha': [1e-5, 1e-6], 'hidden_layer_sizes': [(5, 2)], 'random_state': [1]}]\n",
    "\n",
    "\n",
    "#Do grid search and print classification report\n",
    "clf = GridSearchCV(MLPClassifier(), tuned_parameters, cv=5)\n",
    "clf.fit(X_train, y_train)\n",
    "print(\"Best params: \", clf.best_params_); print()\n",
    "y_true, y_pred = y_test, clf.predict(X_test)\n",
    "print(\"Classification report: \"); print()\n",
    "print(classification_report(y_true, y_pred))"
   ]
  },
  {
   "cell_type": "markdown",
   "metadata": {},
   "source": [
    "# Decision Tree Classifier"
   ]
  },
  {
   "cell_type": "code",
   "execution_count": 68,
   "metadata": {},
   "outputs": [
    {
     "name": "stdout",
     "output_type": "stream",
     "text": [
      "Using parameters obtained from Grid Search: \n",
      "{'class_weight': None, 'criterion': 'entropy', 'max_depth': 8, 'random_state': 1}\n"
     ]
    },
    {
     "ename": "ValueError",
     "evalue": "Number of features of the model must match the input. Model n_features is 10 and input n_features is 11 ",
     "output_type": "error",
     "traceback": [
      "\u001b[1;31m---------------------------------------------------------------------------\u001b[0m",
      "\u001b[1;31mValueError\u001b[0m                                Traceback (most recent call last)",
      "\u001b[1;32m<ipython-input-68-336111590ddb>\u001b[0m in \u001b[0;36m<module>\u001b[1;34m()\u001b[0m\n\u001b[0;32m      8\u001b[0m \u001b[1;33m\u001b[0m\u001b[0m\n\u001b[0;32m      9\u001b[0m \u001b[1;31m#### predict and output to csv file ####\u001b[0m\u001b[1;33m\u001b[0m\u001b[1;33m\u001b[0m\u001b[0m\n\u001b[1;32m---> 10\u001b[1;33m \u001b[0mpredictions\u001b[0m \u001b[1;33m=\u001b[0m \u001b[0mclf\u001b[0m\u001b[1;33m.\u001b[0m\u001b[0mpredict\u001b[0m\u001b[1;33m(\u001b[0m\u001b[0mtest\u001b[0m\u001b[1;33m.\u001b[0m\u001b[0mdrop\u001b[0m\u001b[1;33m(\u001b[0m\u001b[0mcolumns\u001b[0m\u001b[1;33m=\u001b[0m\u001b[1;33m[\u001b[0m\u001b[1;34m'ID'\u001b[0m\u001b[1;33m]\u001b[0m\u001b[1;33m)\u001b[0m\u001b[1;33m,\u001b[0m\u001b[1;33m)\u001b[0m\u001b[1;33m\u001b[0m\u001b[0m\n\u001b[0m\u001b[0;32m     11\u001b[0m \u001b[0mtest\u001b[0m\u001b[1;33m[\u001b[0m\u001b[1;34m'IsSinkhole'\u001b[0m\u001b[1;33m]\u001b[0m \u001b[1;33m=\u001b[0m \u001b[0mpredictions\u001b[0m\u001b[1;33m\u001b[0m\u001b[0m\n\u001b[0;32m     12\u001b[0m \u001b[0mtest\u001b[0m\u001b[1;33m.\u001b[0m\u001b[0mto_csv\u001b[0m\u001b[1;33m(\u001b[0m\u001b[1;34m'd8_decision_tree.csv'\u001b[0m\u001b[1;33m,\u001b[0m\u001b[0mindex_label\u001b[0m\u001b[1;33m=\u001b[0m\u001b[1;34m'ID'\u001b[0m\u001b[1;33m,\u001b[0m\u001b[0mcolumns\u001b[0m\u001b[1;33m=\u001b[0m\u001b[1;33m[\u001b[0m\u001b[1;34m'IsSinkhole'\u001b[0m\u001b[1;33m]\u001b[0m\u001b[1;33m)\u001b[0m\u001b[1;33m\u001b[0m\u001b[0m\n",
      "\u001b[1;32m~\\Miniconda3\\envs\\cs460g\\lib\\site-packages\\sklearn\\tree\\tree.py\u001b[0m in \u001b[0;36mpredict\u001b[1;34m(self, X, check_input)\u001b[0m\n\u001b[0;32m    410\u001b[0m         \"\"\"\n\u001b[0;32m    411\u001b[0m         \u001b[0mcheck_is_fitted\u001b[0m\u001b[1;33m(\u001b[0m\u001b[0mself\u001b[0m\u001b[1;33m,\u001b[0m \u001b[1;34m'tree_'\u001b[0m\u001b[1;33m)\u001b[0m\u001b[1;33m\u001b[0m\u001b[0m\n\u001b[1;32m--> 412\u001b[1;33m         \u001b[0mX\u001b[0m \u001b[1;33m=\u001b[0m \u001b[0mself\u001b[0m\u001b[1;33m.\u001b[0m\u001b[0m_validate_X_predict\u001b[0m\u001b[1;33m(\u001b[0m\u001b[0mX\u001b[0m\u001b[1;33m,\u001b[0m \u001b[0mcheck_input\u001b[0m\u001b[1;33m)\u001b[0m\u001b[1;33m\u001b[0m\u001b[0m\n\u001b[0m\u001b[0;32m    413\u001b[0m         \u001b[0mproba\u001b[0m \u001b[1;33m=\u001b[0m \u001b[0mself\u001b[0m\u001b[1;33m.\u001b[0m\u001b[0mtree_\u001b[0m\u001b[1;33m.\u001b[0m\u001b[0mpredict\u001b[0m\u001b[1;33m(\u001b[0m\u001b[0mX\u001b[0m\u001b[1;33m)\u001b[0m\u001b[1;33m\u001b[0m\u001b[0m\n\u001b[0;32m    414\u001b[0m         \u001b[0mn_samples\u001b[0m \u001b[1;33m=\u001b[0m \u001b[0mX\u001b[0m\u001b[1;33m.\u001b[0m\u001b[0mshape\u001b[0m\u001b[1;33m[\u001b[0m\u001b[1;36m0\u001b[0m\u001b[1;33m]\u001b[0m\u001b[1;33m\u001b[0m\u001b[0m\n",
      "\u001b[1;32m~\\Miniconda3\\envs\\cs460g\\lib\\site-packages\\sklearn\\tree\\tree.py\u001b[0m in \u001b[0;36m_validate_X_predict\u001b[1;34m(self, X, check_input)\u001b[0m\n\u001b[0;32m    382\u001b[0m                              \u001b[1;34m\"match the input. Model n_features is %s and \"\u001b[0m\u001b[1;33m\u001b[0m\u001b[0m\n\u001b[0;32m    383\u001b[0m                              \u001b[1;34m\"input n_features is %s \"\u001b[0m\u001b[1;33m\u001b[0m\u001b[0m\n\u001b[1;32m--> 384\u001b[1;33m                              % (self.n_features_, n_features))\n\u001b[0m\u001b[0;32m    385\u001b[0m \u001b[1;33m\u001b[0m\u001b[0m\n\u001b[0;32m    386\u001b[0m         \u001b[1;32mreturn\u001b[0m \u001b[0mX\u001b[0m\u001b[1;33m\u001b[0m\u001b[0m\n",
      "\u001b[1;31mValueError\u001b[0m: Number of features of the model must match the input. Model n_features is 10 and input n_features is 11 "
     ]
    }
   ],
   "source": [
    "### decision tree ###\n",
    "\n",
    "print(\"Using parameters obtained from Grid Search: \")\n",
    "print(bestparamDTree)\n",
    "\n",
    "clf = tree.DecisionTreeClassifier(criterion='entropy', max_depth=8, random_state=1)\n",
    "clf.fit(X, y)\n",
    "\n",
    "#### predict and output to csv file ####\n",
    "predictions = clf.predict(test.drop(columns=['ID']),)\n",
    "test['IsSinkhole'] = predictions\n",
    "test.to_csv('d8_decision_tree.csv',index_label='ID',columns=['IsSinkhole'])"
   ]
  },
  {
   "cell_type": "markdown",
   "metadata": {},
   "source": [
    "# Random Forest Classifier"
   ]
  },
  {
   "cell_type": "code",
   "execution_count": null,
   "metadata": {},
   "outputs": [],
   "source": [
    "### random forest ###\n",
    "#make_classification actually seems to make things worse\n",
    "#X, y = make_classification(n_samples=train.shape[0], n_features=11)#, n_informative=2, n_redundant=0, random_state=0, shuffle=False)\n",
    "#clf = RandomForestClassifier()\n",
    "#clf.fit(X, y)\n",
    "#print(clf.get_params())\n",
    "### find which features are important ###\n",
    "\"\"\"importances = clf.feature_importances_\n",
    "std = np.std([clf.feature_importances_ for clf in clf.estimators_], axis=0)\n",
    "indices = np.argsort(importances)[::-1]\n",
    "#graph feature importances\n",
    "plt.figure()\n",
    "plt.title(\"Feature importances\")\n",
    "plt.bar(range(X.shape[1]), importances[indices],\n",
    "       color=\"r\", yerr=std[indices], align=\"center\")\n",
    "plt.xticks(range(X.shape[1]), indices)\n",
    "plt.xlim([-1, X.shape[1]])\n",
    "plt.show()\"\"\""
   ]
  },
  {
   "cell_type": "markdown",
   "metadata": {},
   "source": [
    "# Multi Layered Perceptron"
   ]
  },
  {
   "cell_type": "code",
   "execution_count": null,
   "metadata": {},
   "outputs": [],
   "source": [
    "X = [[0., 0.], [1., 1.]]\n",
    "y = [0, 1]\n",
    "clf = MLPClassifier(solver='lbfgs', alpha=1e-5,\n",
    "                    hidden_layer_sizes=(5, 2), random_state=1)\n",
    "\n",
    "clf.fit(X, y)"
   ]
  }
 ],
 "metadata": {
  "kernelspec": {
   "display_name": "Python 3",
   "language": "python",
   "name": "python3"
  },
  "language_info": {
   "codemirror_mode": {
    "name": "ipython",
    "version": 3
   },
   "file_extension": ".py",
   "mimetype": "text/x-python",
   "name": "python",
   "nbconvert_exporter": "python",
   "pygments_lexer": "ipython3",
   "version": "3.6.6"
  }
 },
 "nbformat": 4,
 "nbformat_minor": 1
}
